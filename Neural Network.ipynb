{
 "cells": [
  {
   "cell_type": "markdown",
   "metadata": {},
   "source": [
    "# Neural Networks and Deep Learning practice\n",
    "\n",
    "### Importing and preprocessing MNIST data"
   ]
  },
  {
   "cell_type": "code",
   "execution_count": 1,
   "metadata": {},
   "outputs": [
    {
     "name": "stderr",
     "output_type": "stream",
     "text": [
      "Using TensorFlow backend.\n"
     ]
    }
   ],
   "source": [
    "import numpy as np\n",
    "import matplotlib.pyplot as plt\n",
    "import mnist_loader"
   ]
  },
  {
   "cell_type": "code",
   "execution_count": 3,
   "metadata": {},
   "outputs": [],
   "source": [
    "def show_numb(x):\n",
    "    \"\"\"Function that prints the image\n",
    "    of the given MNIST digit\"\"\"\n",
    "    image = x\n",
    "    image = np.array(image, dtype='float')\n",
    "    pixels = image.reshape((28, 28))\n",
    "    plt.imshow(pixels, cmap='gray')\n",
    "    plt.show()"
   ]
  },
  {
   "cell_type": "markdown",
   "metadata": {},
   "source": [
    "The code below loads **preprocessed** MNIST dataset in the following way:\n",
    "\n",
    "* train_data[0][0] - image of the 1st digit (it's shape is (784, 1))\n",
    "* train_data[0][1] - label of the 1st digit\n",
    "\n",
    "\n",
    "\n",
    "* train_data[1][0] - image of the 2nd digit (it's shape is (784, 1))\n",
    "* train_data[1][1] - label of the 2nd digit\n",
    "\n",
    "\n",
    "and so on\n",
    "\n",
    "* test_data is similar \n"
   ]
  },
  {
   "cell_type": "code",
   "execution_count": 2,
   "metadata": {},
   "outputs": [],
   "source": [
    "train_data, test_data = mnist_loader.load_data_wrapper()"
   ]
  },
  {
   "cell_type": "code",
   "execution_count": 5,
   "metadata": {},
   "outputs": [
    {
     "data": {
      "image/png": "[encoded data removed]",
      "text/plain": [
       "<Figure size 432x288 with 1 Axes>"
      ]
     },
     "metadata": {
      "needs_background": "light"
     },
     "output_type": "display_data"
    },
    {
     "data": {
      "text/plain": [
       "array([[0.],\n",
       "       [0.],\n",
       "       [0.],\n",
       "       [0.],\n",
       "       [0.],\n",
       "       [1.],\n",
       "       [0.],\n",
       "       [0.],\n",
       "       [0.],\n",
       "       [0.]])"
      ]
     },
     "execution_count": 5,
     "metadata": {},
     "output_type": "execute_result"
    }
   ],
   "source": [
    "show_numb(train_data[0][0])\n",
    "train_data[0][1]"
   ]
  },
  {
   "cell_type": "markdown",
   "metadata": {},
   "source": [
    "### The 1st Network\n",
    "\n",
    "* FeedForward Network with Sigmoid Neurons \n",
    "* Sigmoid Output Neurons\n",
    "* Quadratic Cost function\n",
    "* Backprop is used\n",
    "* Not matrix implementation\n",
    "* Stochastic Gradient Descent"
   ]
  },
  {
   "cell_type": "code",
   "execution_count": 52,
   "metadata": {},
   "outputs": [],
   "source": [
    "import network"
   ]
  },
  {
   "cell_type": "code",
   "execution_count": 77,
   "metadata": {
    "scrolled": true
   },
   "outputs": [
    {
     "name": "stdout",
     "output_type": "stream",
     "text": [
      "Epoch 0: 8011 / 10000\n",
      "Epoch 1: 8185 / 10000\n",
      "Epoch 2: 8262 / 10000\n",
      "Epoch 3: 9096 / 10000\n",
      "Epoch 4: 9106 / 10000\n",
      "Epoch 5: 9174 / 10000\n",
      "Epoch 6: 9112 / 10000\n",
      "Epoch 7: 9204 / 10000\n",
      "Epoch 8: 9268 / 10000\n",
      "Epoch 9: 9303 / 10000\n",
      "Epoch 10: 9342 / 10000\n",
      "Epoch 11: 9304 / 10000\n",
      "Epoch 12: 9336 / 10000\n",
      "Epoch 13: 9316 / 10000\n",
      "Epoch 14: 9395 / 10000\n",
      "Epoch 15: 9279 / 10000\n",
      "Epoch 16: 9350 / 10000\n",
      "Epoch 17: 9348 / 10000\n",
      "Epoch 18: 9390 / 10000\n",
      "Epoch 19: 9416 / 10000\n",
      "Epoch 20: 9379 / 10000\n",
      "Epoch 21: 9412 / 10000\n",
      "Epoch 22: 9370 / 10000\n",
      "Epoch 23: 9388 / 10000\n",
      "Epoch 24: 9369 / 10000\n",
      "Epoch 25: 9403 / 10000\n",
      "Epoch 26: 9395 / 10000\n",
      "Epoch 27: 9414 / 10000\n",
      "Epoch 28: 9382 / 10000\n",
      "Epoch 29: 9412 / 10000\n"
     ]
    }
   ],
   "source": [
    "net_matrix = network_matrix.Network([784, 30, 10])\n",
    "\n",
    "net_matrix.SGD(train_data, 30, 10, 3.0, test_data = test_data)"
   ]
  },
  {
   "cell_type": "code",
   "execution_count": 82,
   "metadata": {},
   "outputs": [
    {
     "name": "stdout",
     "output_type": "stream",
     "text": [
      "Epoch 0: 8777 / 10000\n",
      "Epoch 1: 8991 / 10000\n",
      "Epoch 2: 9090 / 10000\n",
      "Epoch 3: 9169 / 10000\n",
      "Epoch 4: 9228 / 10000\n",
      "Epoch 5: 9205 / 10000\n",
      "Epoch 6: 9259 / 10000\n",
      "Epoch 7: 9335 / 10000\n",
      "Epoch 8: 9170 / 10000\n",
      "Epoch 9: 9288 / 10000\n",
      "Epoch 10: 9301 / 10000\n",
      "Epoch 11: 9302 / 10000\n",
      "Epoch 12: 9324 / 10000\n",
      "Epoch 13: 9303 / 10000\n",
      "Epoch 14: 9315 / 10000\n",
      "Epoch 15: 9248 / 10000\n",
      "Epoch 16: 9307 / 10000\n",
      "Epoch 17: 9346 / 10000\n",
      "Epoch 18: 9373 / 10000\n",
      "Epoch 19: 9310 / 10000\n",
      "Epoch 20: 9355 / 10000\n",
      "Epoch 21: 9350 / 10000\n",
      "Epoch 22: 9351 / 10000\n",
      "Epoch 23: 9328 / 10000\n",
      "Epoch 24: 9351 / 10000\n",
      "Epoch 25: 9384 / 10000\n",
      "Epoch 26: 9373 / 10000\n",
      "Epoch 27: 9380 / 10000\n",
      "Epoch 28: 9371 / 10000\n",
      "Epoch 29: 9379 / 10000\n"
     ]
    }
   ],
   "source": [
    "#initializing a network\n",
    "net = network.Network([784, 30, 10])\n",
    "\n",
    "#training\n",
    "net.SGD(train_data, 30, 10, 3.0, test_data = test_data)"
   ]
  },
  {
   "cell_type": "code",
   "execution_count": 17,
   "metadata": {
    "scrolled": true
   },
   "outputs": [
    {
     "name": "stdout",
     "output_type": "stream",
     "text": [
      "Epoch 0: 5532 / 10000\n",
      "Epoch 1: 6046 / 10000\n",
      "Epoch 2: 6123 / 10000\n",
      "Epoch 3: 6188 / 10000\n",
      "Epoch 4: 6262 / 10000\n",
      "Epoch 5: 6175 / 10000\n",
      "Epoch 6: 6301 / 10000\n",
      "Epoch 7: 6284 / 10000\n",
      "Epoch 8: 6267 / 10000\n",
      "Epoch 9: 6281 / 10000\n",
      "Epoch 10: 6189 / 10000\n",
      "Epoch 11: 6251 / 10000\n",
      "Epoch 12: 6262 / 10000\n",
      "Epoch 13: 6281 / 10000\n",
      "Epoch 14: 6237 / 10000\n",
      "Epoch 15: 6269 / 10000\n",
      "Epoch 16: 6283 / 10000\n",
      "Epoch 17: 6220 / 10000\n",
      "Epoch 18: 6317 / 10000\n",
      "Epoch 19: 6266 / 10000\n",
      "Epoch 20: 6313 / 10000\n",
      "Epoch 21: 6317 / 10000\n",
      "Epoch 22: 6298 / 10000\n",
      "Epoch 23: 6263 / 10000\n",
      "Epoch 24: 6321 / 10000\n",
      "Epoch 25: 6317 / 10000\n",
      "Epoch 26: 6324 / 10000\n",
      "Epoch 27: 6339 / 10000\n",
      "Epoch 28: 6308 / 10000\n",
      "Epoch 29: 6268 / 10000\n"
     ]
    }
   ],
   "source": [
    "#initializing a network\n",
    "net2 = network.Network([784, 10])\n",
    "\n",
    "#training\n",
    "net2.SGD(train_data, 30, 10,  3.0, test_data = test_data)"
   ]
  },
  {
   "cell_type": "markdown",
   "metadata": {},
   "source": [
    "### Matrix implementation\n"
   ]
  },
  {
   "cell_type": "code",
   "execution_count": null,
   "metadata": {},
   "outputs": [],
   "source": [
    "import network_matrix"
   ]
  },
  {
   "cell_type": "code",
   "execution_count": 77,
   "metadata": {
    "scrolled": true
   },
   "outputs": [
    {
     "name": "stdout",
     "output_type": "stream",
     "text": [
      "Epoch 0: 8011 / 10000\n",
      "Epoch 1: 8185 / 10000\n",
      "Epoch 2: 8262 / 10000\n",
      "Epoch 3: 9096 / 10000\n",
      "Epoch 4: 9106 / 10000\n",
      "Epoch 5: 9174 / 10000\n",
      "Epoch 6: 9112 / 10000\n",
      "Epoch 7: 9204 / 10000\n",
      "Epoch 8: 9268 / 10000\n",
      "Epoch 9: 9303 / 10000\n",
      "Epoch 10: 9342 / 10000\n",
      "Epoch 11: 9304 / 10000\n",
      "Epoch 12: 9336 / 10000\n",
      "Epoch 13: 9316 / 10000\n",
      "Epoch 14: 9395 / 10000\n",
      "Epoch 15: 9279 / 10000\n",
      "Epoch 16: 9350 / 10000\n",
      "Epoch 17: 9348 / 10000\n",
      "Epoch 18: 9390 / 10000\n",
      "Epoch 19: 9416 / 10000\n",
      "Epoch 20: 9379 / 10000\n",
      "Epoch 21: 9412 / 10000\n",
      "Epoch 22: 9370 / 10000\n",
      "Epoch 23: 9388 / 10000\n",
      "Epoch 24: 9369 / 10000\n",
      "Epoch 25: 9403 / 10000\n",
      "Epoch 26: 9395 / 10000\n",
      "Epoch 27: 9414 / 10000\n",
      "Epoch 28: 9382 / 10000\n",
      "Epoch 29: 9412 / 10000\n"
     ]
    }
   ],
   "source": [
    "#initializing a network\n",
    "net_matrix = network_matrix.Network([784, 30, 10])\n",
    "\n",
    "#training\n",
    "net_matrix.SGD(train_data, 30, 10, 3.0, test_data = test_data)"
   ]
  },
  {
   "cell_type": "markdown",
   "metadata": {},
   "source": [
    "### The 2nd Network\n",
    "\n",
    "* FeedForward Network with Sigmoid Neurons \n",
    "* Sigmoid Output Neurons\n",
    "* Quadratic or Cross-entropy cost functions\n",
    "* L2 regularization\n",
    "* better initialization of network weights\n",
    "* Backprop is used\n",
    "* Not matrix implementation\n",
    "* Stochastic Gradient Descent"
   ]
  },
  {
   "cell_type": "code",
   "execution_count": 8,
   "metadata": {},
   "outputs": [],
   "source": [
    "import network2"
   ]
  },
  {
   "cell_type": "code",
   "execution_count": 9,
   "metadata": {},
   "outputs": [
    {
     "name": "stdout",
     "output_type": "stream",
     "text": [
      "Epoch 0 training complete\n",
      "Accuracy on evaluation data: 9079 / 10000\n",
      "Epoch 1 training complete\n",
      "Accuracy on evaluation data: 9253 / 10000\n",
      "Epoch 2 training complete\n",
      "Accuracy on evaluation data: 9238 / 10000\n",
      "Epoch 3 training complete\n",
      "Accuracy on evaluation data: 9343 / 10000\n",
      "Epoch 4 training complete\n",
      "Accuracy on evaluation data: 9364 / 10000\n",
      "Epoch 5 training complete\n",
      "Accuracy on evaluation data: 9268 / 10000\n",
      "Epoch 6 training complete\n",
      "Accuracy on evaluation data: 9279 / 10000\n",
      "Epoch 7 training complete\n",
      "Accuracy on evaluation data: 9343 / 10000\n",
      "Epoch 8 training complete\n",
      "Accuracy on evaluation data: 9368 / 10000\n",
      "Epoch 9 training complete\n",
      "Accuracy on evaluation data: 9385 / 10000\n",
      "Epoch 10 training complete\n",
      "Accuracy on evaluation data: 9379 / 10000\n",
      "Epoch 11 training complete\n",
      "Accuracy on evaluation data: 9376 / 10000\n",
      "Epoch 12 training complete\n",
      "Accuracy on evaluation data: 9364 / 10000\n",
      "Epoch 13 training complete\n",
      "Accuracy on evaluation data: 9355 / 10000\n",
      "Epoch 14 training complete\n",
      "Accuracy on evaluation data: 9344 / 10000\n",
      "Epoch 15 training complete\n",
      "Accuracy on evaluation data: 9313 / 10000\n",
      "Epoch 16 training complete\n",
      "Accuracy on evaluation data: 9364 / 10000\n",
      "Epoch 17 training complete\n",
      "Accuracy on evaluation data: 9325 / 10000\n",
      "Epoch 18 training complete\n",
      "Accuracy on evaluation data: 9351 / 10000\n",
      "Epoch 19 training complete\n",
      "Accuracy on evaluation data: 9363 / 10000\n",
      "Epoch 20 training complete\n",
      "Accuracy on evaluation data: 9350 / 10000\n",
      "Epoch 21 training complete\n",
      "Accuracy on evaluation data: 9348 / 10000\n",
      "Epoch 22 training complete\n",
      "Accuracy on evaluation data: 9340 / 10000\n",
      "Epoch 23 training complete\n",
      "Accuracy on evaluation data: 9383 / 10000\n",
      "Epoch 24 training complete\n",
      "Accuracy on evaluation data: 9330 / 10000\n",
      "Epoch 25 training complete\n",
      "Accuracy on evaluation data: 9356 / 10000\n",
      "Epoch 26 training complete\n",
      "Accuracy on evaluation data: 9331 / 10000\n",
      "Epoch 27 training complete\n",
      "Accuracy on evaluation data: 9339 / 10000\n",
      "Epoch 28 training complete\n",
      "Accuracy on evaluation data: 9412 / 10000\n",
      "Epoch 29 training complete\n",
      "Accuracy on evaluation data: 9407 / 10000\n"
     ]
    },
    {
     "data": {
      "text/plain": [
       "([],\n",
       " [9079,\n",
       "  9253,\n",
       "  9238,\n",
       "  9343,\n",
       "  9364,\n",
       "  9268,\n",
       "  9279,\n",
       "  9343,\n",
       "  9368,\n",
       "  9385,\n",
       "  9379,\n",
       "  9376,\n",
       "  9364,\n",
       "  9355,\n",
       "  9344,\n",
       "  9313,\n",
       "  9364,\n",
       "  9325,\n",
       "  9351,\n",
       "  9363,\n",
       "  9350,\n",
       "  9348,\n",
       "  9340,\n",
       "  9383,\n",
       "  9330,\n",
       "  9356,\n",
       "  9331,\n",
       "  9339,\n",
       "  9412,\n",
       "  9407],\n",
       " [],\n",
       " [])"
      ]
     },
     "execution_count": 9,
     "metadata": {},
     "output_type": "execute_result"
    }
   ],
   "source": [
    "#initializing a network\n",
    "net = network2.Network([784, 30, 10])\n",
    "\n",
    "#training\n",
    "net.SGD(train_data, 30, 10, 0.5, lmbda = 5.0, evaluation_data = test_data, \n",
    "       monitor_evaluation_accuracy = True)"
   ]
  },
  {
   "cell_type": "code",
   "execution_count": null,
   "metadata": {},
   "outputs": [],
   "source": []
  },
  {
   "cell_type": "code",
   "execution_count": null,
   "metadata": {},
   "outputs": [],
   "source": []
  },
  {
   "cell_type": "code",
   "execution_count": null,
   "metadata": {},
   "outputs": [],
   "source": []
  },
  {
   "cell_type": "code",
   "execution_count": null,
   "metadata": {},
   "outputs": [],
   "source": []
  },
  {
   "cell_type": "code",
   "execution_count": null,
   "metadata": {},
   "outputs": [],
   "source": []
  }
 ],
 "metadata": {
  "kernelspec": {
   "display_name": "Python 3",
   "language": "python",
   "name": "python3"
  },
  "language_info": {
   "codemirror_mode": {
    "name": "ipython",
    "version": 3
   },
   "file_extension": ".py",
   "mimetype": "text/x-python",
   "name": "python",
   "nbconvert_exporter": "python",
   "pygments_lexer": "ipython3",
   "version": "3.7.3"
  }
 },
 "nbformat": 4,
 "nbformat_minor": 2
}
